{
    "metadata": {
        "kernelspec": {
            "name": "SQL",
            "display_name": "SQL",
            "language": "sql"
        },
        "language_info": {
            "name": "sql",
            "version": ""
        }
    },
    "nbformat_minor": 2,
    "nbformat": 4,
    "cells": [
        {
            "cell_type": "code",
            "source": [
                "CREATE DATABASE Seguradora"
            ],
            "metadata": {
                "azdata_cell_guid": "0a304585-c88c-4a45-af3d-03fc6123a953"
            },
            "outputs": [
                {
                    "output_type": "display_data",
                    "data": {
                        "text/html": "Commands completed successfully."
                    },
                    "metadata": {}
                },
                {
                    "output_type": "display_data",
                    "data": {
                        "text/html": "Total execution time: 00:00:00.155"
                    },
                    "metadata": {}
                }
            ],
            "execution_count": 1
        },
        {
            "cell_type": "code",
            "source": [
                "USE Seguradora\r\n",
                ""
            ],
            "metadata": {
                "azdata_cell_guid": "b67b33d1-a0cb-44e5-8271-a2924419cdf5"
            },
            "outputs": [
                {
                    "output_type": "display_data",
                    "data": {
                        "text/html": "Commands completed successfully."
                    },
                    "metadata": {}
                },
                {
                    "output_type": "display_data",
                    "data": {
                        "text/html": "Total execution time: 00:00:00.060"
                    },
                    "metadata": {}
                }
            ],
            "execution_count": 2
        },
        {
            "cell_type": "code",
            "source": [
                "CREATE TABLE cliente(\r\n",
                "    cod_cliente INT PRIMARY KEY REFERENCES cliente(cod_cliente) ,\r\n",
                "    nome_cliente VARCHAR (45) NOT NULL,\r\n",
                "    cpf VARCHAR (45) NOT NULL UNIQUE,\r\n",
                "    sexo VARCHAR (20),\r\n",
                "    estado VARCHAR (45),\r\n",
                "    cidade VARCHAR (45),\r\n",
                "    bairro VARCHAR(45),\r\n",
                "    numero VARCHAR (45),\r\n",
                "    rua VARCHAR (45),\r\n",
                "    Telefone_fixo VARCHAR(45),\r\n",
                "    telefone_celular VARCHAR(45) NOT NULL UNIQUE,\r\n",
                "\r\n",
                ")\r\n",
                ""
            ],
            "metadata": {
                "azdata_cell_guid": "5f23e2b5-fcab-4c2c-bdba-3daf777b962a"
            },
            "outputs": [
                {
                    "output_type": "error",
                    "evalue": "Msg 2714, Level 16, State 6, Line 1\r\nJá existe um objeto com nome 'cliente' no banco de dados.",
                    "ename": "",
                    "traceback": []
                },
                {
                    "output_type": "display_data",
                    "data": {
                        "text/html": "Total execution time: 00:00:00.001"
                    },
                    "metadata": {}
                }
            ],
            "execution_count": 19
        },
        {
            "cell_type": "code",
            "source": [
                "CREATE TABLE carro(\r\n",
                "    cod_carro INT PRIMARY KEY REFERENCES carro(cod_carro),\r\n",
                "    placa VARCHAR (45) NOT NULL UNIQUE,\r\n",
                "    marca VARCHAR (45) NOT NULL,\r\n",
                "    modelo VARCHAR (45) NOT NULL,\r\n",
                "    ano VARCHAR (45) NOT NULL,\r\n",
                "    chassi VARCHAR (45) NOT NULL UNIQUE,\r\n",
                ")"
            ],
            "metadata": {
                "azdata_cell_guid": "7907d4bb-ff8b-4348-8e81-a2512e19a367"
            },
            "outputs": [
                {
                    "output_type": "display_data",
                    "data": {
                        "text/html": "Commands completed successfully."
                    },
                    "metadata": {}
                },
                {
                    "output_type": "display_data",
                    "data": {
                        "text/html": "Total execution time: 00:00:00.011"
                    },
                    "metadata": {}
                }
            ],
            "execution_count": 14
        },
        {
            "cell_type": "code",
            "source": [
                "CREATE TABLE apolice(\r\n",
                "    cod_apolice INT PRIMARY KEY REFERENCES apolice(cod_apolice) ,\r\n",
                "    cod_cliente INT,\r\n",
                "    cod_carro INT,\r\n",
                "    valor_cobertura MONEY NOT Null,\r\n",
                "    valor_franquia MONEY NOT Null,\r\n",
                "    data_inicio_vigencia DATE NOT NULL CHECK (data_inicio_vigencia > getdate()), \r\n",
                "    data_fim_vigencia DATE NOT NULL,\r\n",
                "    CONSTRAINT fk_cod_cliente FOREIGN KEY (cod_cliente) REFERENCES cliente(cod_cliente),\r\n",
                "    CONSTRAINT fk_carro_cod_carro FOREIGN KEY (cod_carro)  REFERENCES carro(cod_carro)\r\n",
                "    \r\n",
                "\r\n",
                ")"
            ],
            "metadata": {
                "azdata_cell_guid": "3d335249-5c77-46b8-8c7e-5790a465d6e7",
                "tags": []
            },
            "outputs": [
                {
                    "output_type": "display_data",
                    "data": {
                        "text/html": "Commands completed successfully."
                    },
                    "metadata": {}
                },
                {
                    "output_type": "display_data",
                    "data": {
                        "text/html": "Total execution time: 00:00:00.011"
                    },
                    "metadata": {}
                }
            ],
            "execution_count": 22
        },
        {
            "cell_type": "code",
            "source": [
                "CREATE TABLE sinistro(\r\n",
                "    cod_carro INT,\r\n",
                "    cod_apolice INT,    \r\n",
                "    hora_sinistro int,\r\n",
                "    data_sinistro DATE,\r\n",
                "    local_sinistro VARCHAR (45),\r\n",
                "    condutor VARCHAR (45),\r\n",
                "    CONSTRAINT pk_cod_sinistro PRIMARY KEY (cod_carro, cod_apolice),\r\n",
                "    CONSTRAINT fk_cod_carro FOREIGN KEY (cod_carro)  REFERENCES carro(cod_carro),\r\n",
                "    CONSTRAINT fk_cod_apolice FOREIGN KEY (cod_apolice) REFERENCES apolice(cod_apolice)\r\n",
                "\r\n",
                ")"
            ],
            "metadata": {
                "azdata_cell_guid": "40653b52-2edd-4378-ba25-cf196e36cf6f"
            },
            "outputs": [
                {
                    "output_type": "display_data",
                    "data": {
                        "text/html": "Commands completed successfully."
                    },
                    "metadata": {}
                },
                {
                    "output_type": "display_data",
                    "data": {
                        "text/html": "Total execution time: 00:00:00.010"
                    },
                    "metadata": {}
                }
            ],
            "execution_count": 25
        },
        {
            "cell_type": "code",
            "source": [
                ""
            ],
            "metadata": {
                "azdata_cell_guid": "714ebd9a-6a40-4a30-a951-4d77c3e12cbd"
            },
            "outputs": [
                {
                    "output_type": "error",
                    "evalue": "Msg 156, Level 15, State 1, Line 2\r\nSintaxe incorreta próxima à palavra-chave 'DEFAULT'.",
                    "ename": "",
                    "traceback": []
                },
                {
                    "output_type": "display_data",
                    "data": {
                        "text/html": "Total execution time: 00:00:00"
                    },
                    "metadata": {}
                }
            ],
            "execution_count": 28
        },
        {
            "cell_type": "code",
            "source": [
                ""
            ],
            "metadata": {
                "azdata_cell_guid": "e2a5f135-1129-4809-932d-2f4e8b79d544"
            },
            "outputs": [],
            "execution_count": null
        },
        {
            "cell_type": "code",
            "source": [
                "DROP TABLE clientes"
            ],
            "metadata": {
                "azdata_cell_guid": "880086a8-9eca-4989-a64a-08699c1ab880"
            },
            "outputs": [
                {
                    "output_type": "display_data",
                    "data": {
                        "text/html": "Commands completed successfully."
                    },
                    "metadata": {}
                },
                {
                    "output_type": "display_data",
                    "data": {
                        "text/html": "Total execution time: 00:00:00.010"
                    },
                    "metadata": {}
                }
            ],
            "execution_count": 12
        }
    ]
}